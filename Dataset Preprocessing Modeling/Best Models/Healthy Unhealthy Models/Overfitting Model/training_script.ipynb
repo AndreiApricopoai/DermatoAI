{
  "cells": [
    {
      "cell_type": "code",
      "execution_count": null,
      "metadata": {
        "colab": {
          "base_uri": "https://localhost:8080/"
        },
        "id": "w_UCN_O8_ez2",
        "outputId": "11633962-d1c7-412a-dbd9-a452b3431e8c"
      },
      "outputs": [
        {
          "name": "stdout",
          "output_type": "stream",
          "text": [
            "Total missing files: 0\n"
          ]
        }
      ],
      "source": [
        "import os\n",
        "import csv\n",
        "\n",
        "# Path to your CSV file\n",
        "csv_file_path = '/content/drive/MyDrive/DermatoAI/SeturiDateFinaleClasificareBoliPiele/Dataset-agumentat-mediu-undersampling/metadata.csv'\n",
        "\n",
        "# Directory where your images are stored\n",
        "image_directory = '/content/drive/MyDrive/DermatoAI/SeturiDateFinaleClasificareBoliPiele/Dataset-agumentat-mediu-undersampling/dataset'\n",
        "\n",
        "missing_files = []\n",
        "i = 0\n",
        "# Assuming your CSV has headers and 'isic_id' is the column with image filenames\n",
        "with open(csv_file_path, mode='r') as file:\n",
        "    reader = csv.DictReader(file)\n",
        "    for row in reader:\n",
        "        isic_id = row['isic_id']  # Adjust the key if your column name is different\n",
        "        image_path = os.path.join(image_directory, f\"{isic_id}\")  # Adjust extension if needed\n",
        "        if not os.path.exists(image_path):\n",
        "            missing_files.append(isic_id)\n",
        "\n",
        "# Print the number of missing files and some examples\n",
        "print(f\"Total missing files: {len(missing_files)}\")\n",
        "if len(missing_files) > 0:\n",
        "    print(\"Examples of missing files:\", missing_files[:10])\n",
        "\n"
      ]
    },
    {
      "cell_type": "code",
      "execution_count": 35,
      "metadata": {
        "id": "xWVXJF8vjvOC"
      },
      "outputs": [],
      "source": [
        "!cp -r \"/content/drive/MyDrive/DermatoAI/SetDateClasificareBinaraPiele\" \"/content/sample_data\""
      ]
    },
    {
      "cell_type": "code",
      "execution_count": null,
      "metadata": {
        "id": "OvRMlBSiD9Nk"
      },
      "outputs": [],
      "source": [
        "from google.colab import drive\n",
        "drive.mount('/content/drive')"
      ]
    },
    {
      "cell_type": "code",
      "execution_count": null,
      "metadata": {
        "id": "0J8gXDLJMaKS"
      },
      "outputs": [],
      "source": [
        "!unzip \"/content/drive/MyDrive/DermatoAI/SetClasificareBoliBalanced.zip\" -d \"/content/drive/MyDrive/DermatoAI\"\n"
      ]
    },
    {
      "cell_type": "code",
      "execution_count": 37,
      "metadata": {
        "colab": {
          "base_uri": "https://localhost:8080/"
        },
        "id": "Oh8Zmoye1zUB",
        "outputId": "d614e9dd-ff26-4c26-c440-99477fc0c2b4"
      },
      "outputs": [
        {
          "name": "stdout",
          "output_type": "stream",
          "text": [
            "5918\n"
          ]
        }
      ],
      "source": [
        "import os\n",
        "\n",
        "def count_files(directory):\n",
        "    total_files = 0\n",
        "    for root, dirs, files in os.walk(directory):\n",
        "        total_files += len(files)\n",
        "    return total_files\n",
        "print(count_files('/content/sample_data/SetDateClasificareBinaraPiele'))"
      ]
    },
    {
      "cell_type": "markdown",
      "metadata": {
        "id": "xyojEkzdqu6s"
      },
      "source": []
    },
    {
      "cell_type": "code",
      "execution_count": 40,
      "metadata": {
        "colab": {
          "base_uri": "https://localhost:8080/",
          "height": 1000
        },
        "id": "djwAX9f6CRUI",
        "outputId": "e47aef27-1ca6-4235-e92b-68701def3f0c"
      },
      "outputs": [
        {
          "name": "stdout",
          "output_type": "stream",
          "text": [
            "Found 4143 images belonging to 2 classes.\n",
            "Found 1775 images belonging to 2 classes.\n",
            "{'healthy': 0, 'unhealthy': 1}\n",
            "Model: \"sequential_4\"\n",
            "_________________________________________________________________\n",
            " Layer (type)                Output Shape              Param #   \n",
            "=================================================================\n",
            " conv2d_826 (Conv2D)         (None, 450, 600, 16)      448       \n",
            "                                                                 \n",
            " batch_normalization_867 (B  (None, 450, 600, 16)      64        \n",
            " atchNormalization)                                              \n",
            "                                                                 \n",
            " max_pooling2d_26 (MaxPooli  (None, 225, 300, 16)      0         \n",
            " ng2D)                                                           \n",
            "                                                                 \n",
            " conv2d_827 (Conv2D)         (None, 225, 300, 32)      4640      \n",
            "                                                                 \n",
            " batch_normalization_868 (B  (None, 225, 300, 32)      128       \n",
            " atchNormalization)                                              \n",
            "                                                                 \n",
            " max_pooling2d_27 (MaxPooli  (None, 112, 150, 32)      0         \n",
            " ng2D)                                                           \n",
            "                                                                 \n",
            " global_average_pooling2d_2  (None, 32)                0         \n",
            " 6 (GlobalAveragePooling2D)                                      \n",
            "                                                                 \n",
            " dense_75 (Dense)            (None, 64)                2112      \n",
            "                                                                 \n",
            " dropout_46 (Dropout)        (None, 64)                0         \n",
            "                                                                 \n",
            " batch_normalization_869 (B  (None, 64)                256       \n",
            " atchNormalization)                                              \n",
            "                                                                 \n",
            " dense_76 (Dense)            (None, 1)                 65        \n",
            "                                                                 \n",
            "=================================================================\n",
            "Total params: 7713 (30.13 KB)\n",
            "Trainable params: 7489 (29.25 KB)\n",
            "Non-trainable params: 224 (896.00 Byte)\n",
            "_________________________________________________________________\n",
            "Model: \"sequential_4\"\n",
            "_________________________________________________________________\n",
            " Layer (type)                Output Shape              Param #   \n",
            "=================================================================\n",
            " conv2d_826 (Conv2D)         (None, 450, 600, 16)      448       \n",
            "                                                                 \n",
            " batch_normalization_867 (B  (None, 450, 600, 16)      64        \n",
            " atchNormalization)                                              \n",
            "                                                                 \n",
            " max_pooling2d_26 (MaxPooli  (None, 225, 300, 16)      0         \n",
            " ng2D)                                                           \n",
            "                                                                 \n",
            " conv2d_827 (Conv2D)         (None, 225, 300, 32)      4640      \n",
            "                                                                 \n",
            " batch_normalization_868 (B  (None, 225, 300, 32)      128       \n",
            " atchNormalization)                                              \n",
            "                                                                 \n",
            " max_pooling2d_27 (MaxPooli  (None, 112, 150, 32)      0         \n",
            " ng2D)                                                           \n",
            "                                                                 \n",
            " global_average_pooling2d_2  (None, 32)                0         \n",
            " 6 (GlobalAveragePooling2D)                                      \n",
            "                                                                 \n",
            " dense_75 (Dense)            (None, 64)                2112      \n",
            "                                                                 \n",
            " dropout_46 (Dropout)        (None, 64)                0         \n",
            "                                                                 \n",
            " batch_normalization_869 (B  (None, 64)                256       \n",
            " atchNormalization)                                              \n",
            "                                                                 \n",
            " dense_76 (Dense)            (None, 1)                 65        \n",
            "                                                                 \n",
            "=================================================================\n",
            "Total params: 7713 (30.13 KB)\n",
            "Trainable params: 7489 (29.25 KB)\n",
            "Non-trainable params: 224 (896.00 Byte)\n",
            "_________________________________________________________________\n",
            "Epoch 1/10\n",
            "258/258 [==============================] - 76s 287ms/step - loss: 0.1626 - accuracy: 0.9409 - precision_56: 0.9447 - recall_56: 0.9365 - f1_score: 0.9406 - val_loss: 0.8352 - val_accuracy: 0.4972 - val_precision_56: 0.4966 - val_recall_56: 1.0000 - val_f1_score: 0.6636 - lr: 7.0000e-04\n",
            "Epoch 2/10\n",
            "258/258 [==============================] - 78s 301ms/step - loss: 0.1060 - accuracy: 0.9637 - precision_56: 0.9646 - recall_56: 0.9627 - f1_score: 0.9637 - val_loss: 0.1399 - val_accuracy: 0.9631 - val_precision_56: 0.9344 - val_recall_56: 0.9954 - val_f1_score: 0.9639 - lr: 7.0000e-04\n",
            "Epoch 3/10\n",
            "258/258 [==============================] - 74s 287ms/step - loss: 0.0979 - accuracy: 0.9644 - precision_56: 0.9655 - recall_56: 0.9632 - f1_score: 0.9644 - val_loss: 0.4299 - val_accuracy: 0.8062 - val_precision_56: 0.7198 - val_recall_56: 0.9977 - val_f1_score: 0.8363 - lr: 7.0000e-04\n",
            "Epoch 4/10\n",
            "258/258 [==============================] - 73s 282ms/step - loss: 0.1054 - accuracy: 0.9656 - precision_56: 0.9678 - recall_56: 0.9631 - f1_score: 0.9655 - val_loss: 0.1202 - val_accuracy: 0.9511 - val_precision_56: 1.0000 - val_recall_56: 0.9015 - val_f1_score: 0.9482 - lr: 7.0000e-04\n",
            "Epoch 5/10\n",
            "258/258 [==============================] - 74s 289ms/step - loss: 0.0879 - accuracy: 0.9704 - precision_56: 0.9741 - recall_56: 0.9666 - f1_score: 0.9703 - val_loss: 0.1651 - val_accuracy: 0.9358 - val_precision_56: 1.0000 - val_recall_56: 0.8706 - val_f1_score: 0.9308 - lr: 7.0000e-04\n",
            "Epoch 6/10\n",
            "258/258 [==============================] - 79s 305ms/step - loss: 0.0968 - accuracy: 0.9646 - precision_56: 0.9682 - recall_56: 0.9607 - f1_score: 0.9645 - val_loss: 0.3011 - val_accuracy: 0.8170 - val_precision_56: 0.7305 - val_recall_56: 1.0000 - val_f1_score: 0.8443 - lr: 7.0000e-04\n",
            "Epoch 7/10\n",
            "258/258 [==============================] - ETA: 0s - loss: 0.0876 - accuracy: 0.9687 - precision_56: 0.9676 - recall_56: 0.9700 - f1_score: 0.9688\n",
            "Epoch 7: ReduceLROnPlateau reducing learning rate to 6.99999975040555e-05.\n",
            "258/258 [==============================] - 80s 310ms/step - loss: 0.0876 - accuracy: 0.9687 - precision_56: 0.9676 - recall_56: 0.9700 - f1_score: 0.9688 - val_loss: 0.1919 - val_accuracy: 0.9222 - val_precision_56: 1.0000 - val_recall_56: 0.8431 - val_f1_score: 0.9149 - lr: 7.0000e-04\n",
            "Epoch 8/10\n",
            "258/258 [==============================] - 75s 292ms/step - loss: 0.0869 - accuracy: 0.9697 - precision_56: 0.9650 - recall_56: 0.9748 - f1_score: 0.9699 - val_loss: 0.0380 - val_accuracy: 0.9909 - val_precision_56: 0.9988 - val_recall_56: 0.9828 - val_f1_score: 0.9908 - lr: 7.0000e-05\n",
            "Epoch 9/10\n",
            "258/258 [==============================] - 78s 302ms/step - loss: 0.0871 - accuracy: 0.9695 - precision_56: 0.9722 - recall_56: 0.9666 - f1_score: 0.9694 - val_loss: 0.0373 - val_accuracy: 0.9943 - val_precision_56: 0.9931 - val_recall_56: 0.9954 - val_f1_score: 0.9943 - lr: 7.0000e-05\n",
            "Epoch 10/10\n",
            "258/258 [==============================] - 74s 289ms/step - loss: 0.0922 - accuracy: 0.9675 - precision_56: 0.9666 - recall_56: 0.9685 - f1_score: 0.9675 - val_loss: 0.0340 - val_accuracy: 0.9943 - val_precision_56: 0.9943 - val_recall_56: 0.9943 - val_f1_score: 0.9943 - lr: 7.0000e-05\n"
          ]
        },
        {
          "data": {
            "image/png": "[encoded data removed]",
            "text/plain": [
              "<Figure size 640x480 with 1 Axes>"
            ]
          },
          "metadata": {},
          "output_type": "display_data"
        },
        {
          "name": "stdout",
          "output_type": "stream",
          "text": [
            "111/111 [==============================] - 45s 406ms/step\n"
          ]
        },
        {
          "data": {
            "image/png": "[encoded data removed]",
            "text/plain": [
              "<Figure size 1000x1000 with 2 Axes>"
            ]
          },
          "metadata": {},
          "output_type": "display_data"
        },
        {
          "name": "stdout",
          "output_type": "stream",
          "text": [
            "              precision    recall  f1-score   support\n",
            "\n",
            "     healthy       0.50      1.00      0.67       887\n",
            "   unhealthy       0.00      0.00      0.00       888\n",
            "\n",
            "    accuracy                           0.50      1775\n",
            "   macro avg       0.25      0.50      0.33      1775\n",
            "weighted avg       0.25      0.50      0.33      1775\n",
            "\n"
          ]
        },
        {
          "name": "stderr",
          "output_type": "stream",
          "text": [
            "/usr/local/lib/python3.10/dist-packages/sklearn/metrics/_classification.py:1344: UndefinedMetricWarning: Precision and F-score are ill-defined and being set to 0.0 in labels with no predicted samples. Use `zero_division` parameter to control this behavior.\n",
            "  _warn_prf(average, modifier, msg_start, len(result))\n",
            "/usr/local/lib/python3.10/dist-packages/sklearn/metrics/_classification.py:1344: UndefinedMetricWarning: Precision and F-score are ill-defined and being set to 0.0 in labels with no predicted samples. Use `zero_division` parameter to control this behavior.\n",
            "  _warn_prf(average, modifier, msg_start, len(result))\n",
            "/usr/local/lib/python3.10/dist-packages/sklearn/metrics/_classification.py:1344: UndefinedMetricWarning: Precision and F-score are ill-defined and being set to 0.0 in labels with no predicted samples. Use `zero_division` parameter to control this behavior.\n",
            "  _warn_prf(average, modifier, msg_start, len(result))\n",
            "/usr/local/lib/python3.10/dist-packages/keras/src/engine/training.py:3103: UserWarning: You are saving your model as an HDF5 file via `model.save()`. This file format is considered legacy. We recommend using instead the native Keras format, e.g. `model.save('my_model.keras')`.\n",
            "  saving_api.save_model(\n"
          ]
        }
      ],
      "source": [
        "import pandas as pd\n",
        "import tensorflow as tf\n",
        "from keras.src.layers import Flatten\n",
        "from sklearn.utils import compute_class_weight\n",
        "from tensorflow.keras.models import Sequential\n",
        "from tensorflow.keras.preprocessing.image import ImageDataGenerator\n",
        "from keras import backend as K\n",
        "import numpy as np\n",
        "from tensorflow.keras.layers import GlobalAveragePooling2D, Dropout\n",
        "from tensorflow.keras.losses import CategoricalCrossentropy\n",
        "from tensorflow.keras.optimizers import Adam\n",
        "from tensorflow.keras.layers import Conv2D, MaxPooling2D, Dense, BatchNormalization\n",
        "from tensorflow.keras.callbacks import EarlyStopping, ReduceLROnPlateau\n",
        "from sklearn.metrics import confusion_matrix, classification_report\n",
        "import seaborn as sns\n",
        "import matplotlib.pyplot as plt\n",
        "from tensorflow.keras.models import Model\n",
        "from tensorflow.keras.layers import Input, Conv2D, BatchNormalization, Activation, Add, MaxPooling2D, GlobalAveragePooling2D, Dense, Dropout\n",
        "from tensorflow.keras.layers import Input, Conv2D, BatchNormalization, Activation, MaxPooling2D, GlobalAveragePooling2D, Dense, Dropout\n",
        "from tensorflow.keras.applications import DenseNet169\n",
        "from tensorflow.keras.applications import DenseNet201\n",
        "from tensorflow.keras.models import Model\n",
        "from tensorflow.keras.layers import GlobalAveragePooling2D, Dense, Dropout\n",
        "from tensorflow.keras.applications import MobileNetV3Small\n",
        "from tensorflow.keras.applications import InceptionResNetV2\n",
        "from tensorflow.keras.regularizers import l2\n",
        "from tensorflow.keras.applications import VGG19\n",
        "from tensorflow.keras.applications import ResNet50\n",
        "from tensorflow.keras.layers import Flatten, GlobalAveragePooling2D, Dropout, Conv2D, MaxPooling2D, Dense, BatchNormalization\n",
        "from sklearn.utils.class_weight import compute_class_weight\n",
        "from tensorflow.keras.models import Sequential\n",
        "from tensorflow.keras.preprocessing.image import ImageDataGenerator\n",
        "from keras import backend as K\n",
        "import numpy as np\n",
        "from tensorflow.keras.losses import BinaryCrossentropy\n",
        "from tensorflow.keras.optimizers import Adam\n",
        "from tensorflow.keras.callbacks import EarlyStopping\n",
        "\n",
        "class F1Score(tf.keras.metrics.Metric):\n",
        "    def __init__(self, name='f1_score', **kwargs):\n",
        "        super(F1Score, self).__init__(name=name, **kwargs)\n",
        "        self.precision = tf.keras.metrics.Precision()\n",
        "        self.recall = tf.keras.metrics.Recall()\n",
        "\n",
        "    def update_state(self, y_true, y_pred, sample_weight=None):\n",
        "        self.precision.update_state(y_true, y_pred, sample_weight)\n",
        "        self.recall.update_state(y_true, y_pred, sample_weight)\n",
        "\n",
        "    def result(self):\n",
        "        p = self.precision.result()\n",
        "        r = self.recall.result()\n",
        "        return 2 * ((p * r) / (p + r + K.epsilon()))\n",
        "\n",
        "    def reset_states(self):\n",
        "        self.precision.reset_states()\n",
        "        self.recall.reset_states()\n",
        "\n",
        "np.random.seed(42)\n",
        "target_size = (450, 600)\n",
        "batch = 16\n",
        "epochs = 10\n",
        "\n",
        "image_directory = '/content/sample_data/SetDateClasificareBinaraPiele'\n",
        "\n",
        "datagen = ImageDataGenerator(rescale=1. / 255, validation_split=0.3)  # 20% data for validation\n",
        "\n",
        "train_generator = datagen.flow_from_directory(\n",
        "    directory=image_directory,\n",
        "    target_size=target_size,\n",
        "    batch_size=batch,\n",
        "    shuffle=True,\n",
        "    class_mode='binary',  # Change to 'binary' for binary classification\n",
        "    subset='training',\n",
        "    seed=42\n",
        ")\n",
        "\n",
        "validation_generator = datagen.flow_from_directory(\n",
        "    directory=image_directory,\n",
        "    target_size=target_size,\n",
        "    batch_size=batch,\n",
        "    shuffle=False,\n",
        "    class_mode='binary',  # Change to 'binary' for binary classification\n",
        "    subset='validation',\n",
        "    seed=42\n",
        ")\n",
        "\n",
        "print(train_generator.class_indices)\n",
        "\n",
        "\n",
        "model = Sequential([\n",
        "    Conv2D(16, (3, 3), activation='relu', input_shape=(target_size[0], target_size[1], 3), padding='same'),\n",
        "    BatchNormalization(),\n",
        "    MaxPooling2D((2, 2)),\n",
        "\n",
        "    Conv2D(32, (3, 3), activation='relu', padding='same'),\n",
        "    BatchNormalization(),\n",
        "    MaxPooling2D((2, 2)),\n",
        "\n",
        "    GlobalAveragePooling2D(),\n",
        "    Dense(64, activation='relu'),\n",
        "    Dropout(0.5),\n",
        "    BatchNormalization(),\n",
        "\n",
        "    Dense(1, activation='sigmoid')\n",
        "])\n",
        "\n",
        "model.summary()\n",
        "\n",
        "model.compile(\n",
        "    optimizer=Adam(learning_rate=0.0007),\n",
        "    loss=BinaryCrossentropy(),\n",
        "    metrics=['accuracy', tf.keras.metrics.Precision(), tf.keras.metrics.Recall(), F1Score()]\n",
        ")\n",
        "\n",
        "\n",
        "\n",
        "\n",
        "\n",
        "model.summary()\n",
        "\n",
        "\n",
        "callbacks = [\n",
        "    ReduceLROnPlateau(monitor='val_loss', factor=0.1, patience=3, verbose=1, min_lr=1e-6),\n",
        "    EarlyStopping(monitor='val_loss',min_delta=0.001, mode='min', patience=4, verbose=1, restore_best_weights=True)\n",
        "]\n",
        "\n",
        "history = model.fit(\n",
        "    train_generator,\n",
        "    steps_per_epoch=train_generator.n // train_generator.batch_size,\n",
        "    validation_data=validation_generator,\n",
        "    validation_steps=validation_generator.n // validation_generator.batch_size,\n",
        "    # class_weight=class_weights,\n",
        "    epochs=epochs,\n",
        "    callbacks=callbacks\n",
        ")\n",
        "\n",
        "validation_generator.reset()\n",
        "\n",
        "# Plot training & validation loss values\n",
        "plt.plot(history.history['loss'])\n",
        "plt.plot(history.history['val_loss'])\n",
        "plt.title('Model loss')\n",
        "plt.ylabel('Loss')\n",
        "plt.xlabel('Epoch')\n",
        "plt.legend(['Train', 'Validation'], loc='upper left')\n",
        "plt.show()\n",
        "\n",
        "# Predict on the whole validation set\n",
        "predictions = model.predict(validation_generator, steps=np.ceil(validation_generator.n / validation_generator.batch_size))\n",
        "\n",
        "predicted_classes = (predictions > 0.5).astype(int).flatten()\n",
        "\n",
        "# Retrieve the true class indices assigned by the generator\n",
        "true_classes = validation_generator.classes\n",
        "\n",
        "# Generate the confusion matrix\n",
        "conf_matrix = confusion_matrix(true_classes, predicted_classes)\n",
        "\n",
        "# Visualize the confusion matrix\n",
        "plt.figure(figsize=(10, 10))\n",
        "sns.heatmap(conf_matrix, annot=True, fmt='g', cmap='Blues', xticklabels=class_labels, yticklabels=class_labels)\n",
        "plt.xlabel('Predicted')\n",
        "plt.ylabel('True')\n",
        "plt.title('Confusion Matrix')\n",
        "plt.show()\n",
        "\n",
        "# Generate a classification report\n",
        "print(classification_report(true_classes, predicted_classes, target_names=class_labels))\n",
        "\n",
        "# Save the model\n",
        "model.save('/content/drive/MyDrive/DermatoAI/Models/Binary.h5')"
      ]
    },
    {
      "cell_type": "markdown",
      "metadata": {
        "id": "eYeC7os-S4Rn"
      },
      "source": []
    },
    {
      "cell_type": "markdown",
      "metadata": {
        "id": "YbA9988UQ0G9"
      },
      "source": []
    },
    {
      "cell_type": "code",
      "execution_count": null,
      "metadata": {
        "id": "yT3l7y7AKKC9"
      },
      "outputs": [],
      "source": []
    },
    {
      "cell_type": "code",
      "execution_count": null,
      "metadata": {
        "id": "9DzspRCZyBju"
      },
      "outputs": [],
      "source": []
    }
  ],
  "metadata": {
    "accelerator": "GPU",
    "colab": {
      "gpuType": "A100",
      "machine_shape": "hm",
      "provenance": []
    },
    "kernelspec": {
      "display_name": "Python 3",
      "name": "python3"
    },
    "language_info": {
      "name": "python"
    }
  },
  "nbformat": 4,
  "nbformat_minor": 0
}
