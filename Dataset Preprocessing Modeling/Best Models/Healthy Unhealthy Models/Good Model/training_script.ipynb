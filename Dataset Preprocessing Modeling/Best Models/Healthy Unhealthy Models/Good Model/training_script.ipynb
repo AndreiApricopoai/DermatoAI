{
  "nbformat": 4,
  "nbformat_minor": 0,
  "metadata": {
    "colab": {
      "provenance": [],
      "machine_shape": "hm",
      "gpuType": "A100"
    },
    "kernelspec": {
      "name": "python3",
      "display_name": "Python 3"
    },
    "language_info": {
      "name": "python"
    },
    "accelerator": "GPU"
  },
  "cells": [
    {
      "cell_type": "code",
      "execution_count": null,
      "metadata": {
        "id": "l18w_q9QJIJi"
      },
      "outputs": [],
      "source": [
        "!unzip \"/content/drive/MyDrive/DermatoAI/SetDateClasificareBinaraPiele.zip\" -d \"/content/drive/MyDrive/DermatoAI\""
      ]
    },
    {
      "cell_type": "code",
      "source": [
        "import os\n",
        "import csv\n",
        "\n",
        "# Path to your CSV file\n",
        "csv_file_path = '/content/sample_data/Dataset-agumentat-mediu-undersampling/metadata.csv'\n",
        "\n",
        "# Directory where your images are stored\n",
        "image_directory = '/content/sample_data/Dataset-agumentat-mediu-undersampling/dataset'\n",
        "\n",
        "missing_files = []\n",
        "i = 0\n",
        "# Assuming your CSV has headers and 'isic_id' is the column with image filenames\n",
        "with open(csv_file_path, mode='r') as file:\n",
        "    reader = csv.DictReader(file)\n",
        "    for row in reader:\n",
        "        isic_id = row['isic_id']  # Adjust the key if your column name is different\n",
        "        image_path = os.path.join(image_directory, f\"{isic_id}\")  # Adjust extension if needed\n",
        "        if not os.path.exists(image_path):\n",
        "            missing_files.append(isic_id)\n",
        "\n",
        "# Print the number of missing files and some examples\n",
        "print(f\"Total missing files: {len(missing_files)}\")\n",
        "if len(missing_files) > 0:\n",
        "    print(\"Examples of missing files:\", missing_files[:10])\n",
        "\n"
      ],
      "metadata": {
        "id": "ikh0JMlNJz_d"
      },
      "execution_count": null,
      "outputs": []
    },
    {
      "cell_type": "code",
      "source": [
        "!cp -r \"/content/drive/MyDrive/DermatoAI/SetDateClasificareBinaraPiele\" \"/content/sample_data\""
      ],
      "metadata": {
        "id": "6v9dSqsXJvKx"
      },
      "execution_count": 3,
      "outputs": []
    },
    {
      "cell_type": "code",
      "source": [
        "import pandas as pd\n",
        "import tensorflow as tf\n",
        "from tensorflow.keras.layers import Flatten, GlobalAveragePooling2D, Dropout, Conv2D, MaxPooling2D, Dense, BatchNormalization\n",
        "from sklearn.utils.class_weight import compute_class_weight\n",
        "from tensorflow.keras.models import Sequential\n",
        "from tensorflow.keras.preprocessing.image import ImageDataGenerator\n",
        "from keras import backend as K\n",
        "import numpy as np\n",
        "from tensorflow.keras.losses import BinaryCrossentropy\n",
        "from tensorflow.keras.optimizers import Adam\n",
        "from tensorflow.keras.callbacks import EarlyStopping\n",
        "\n",
        "\n",
        "class F1Score(tf.keras.metrics.Metric):\n",
        "    def __init__(self, name='f1_score', **kwargs):\n",
        "        super(F1Score, self).__init__(name=name, **kwargs)\n",
        "        self.precision = tf.keras.metrics.Precision()\n",
        "        self.recall = tf.keras.metrics.Recall()\n",
        "\n",
        "    def update_state(self, y_true, y_pred, sample_weight=None):\n",
        "        self.precision.update_state(y_true, y_pred, sample_weight)\n",
        "        self.recall.update_state(y_true, y_pred, sample_weight)\n",
        "\n",
        "    def result(self):\n",
        "        p = self.precision.result()\n",
        "        r = self.recall.result()\n",
        "        return 2 * ((p * r) / (p + r + K.epsilon()))\n",
        "\n",
        "    def reset_states(self):\n",
        "        self.precision.reset_states()\n",
        "        self.recall.reset_states()\n",
        "\n",
        "np.random.seed(42)\n",
        "target_size = (450, 600)\n",
        "batch = 16\n",
        "epochs = 10\n",
        "\n",
        "image_directory = '/content/sample_data/SetDateClasificareBinaraPiele'\n",
        "\n",
        "datagen = ImageDataGenerator(rescale=1. / 255, validation_split=0.3)  # 20% data for validation\n",
        "\n",
        "train_generator = datagen.flow_from_directory(\n",
        "    directory=image_directory,\n",
        "    target_size=target_size,\n",
        "    batch_size=batch,\n",
        "    shuffle=True,\n",
        "    class_mode='binary',  # Change to 'binary' for binary classification\n",
        "    subset='training',\n",
        "    seed=42\n",
        ")\n",
        "\n",
        "validation_generator = datagen.flow_from_directory(\n",
        "    directory=image_directory,\n",
        "    target_size=target_size,\n",
        "    batch_size=batch,\n",
        "    shuffle=False,\n",
        "    class_mode='binary',  # Change to 'binary' for binary classification\n",
        "    subset='validation',\n",
        "    seed=42\n",
        ")\n",
        "\n",
        "print(train_generator.class_indices)\n",
        "\n",
        "\n",
        "model = Sequential([\n",
        "    Conv2D(16, (3, 3), activation='relu', input_shape=(target_size[0], target_size[1], 3), padding='same'),\n",
        "    BatchNormalization(),\n",
        "    MaxPooling2D((2, 2)),\n",
        "\n",
        "    Conv2D(32, (3, 3), activation='relu', padding='same'),\n",
        "    BatchNormalization(),\n",
        "    MaxPooling2D((2, 2)),\n",
        "\n",
        "    Flatten(),\n",
        "\n",
        "    Dense(64, activation='relu'),\n",
        "    Dropout(0.5),\n",
        "    BatchNormalization(),\n",
        "\n",
        "    Dense(1, activation='sigmoid')\n",
        "])\n",
        "\n",
        "model.summary()\n",
        "\n",
        "model.compile(\n",
        "    optimizer=Adam(learning_rate=0.0007),\n",
        "    loss=BinaryCrossentropy(),\n",
        "    metrics=['accuracy', tf.keras.metrics.Precision(), tf.keras.metrics.Recall(), F1Score()]\n",
        ")\n",
        "\n",
        "early_stopping = EarlyStopping(\n",
        "    monitor='val_loss',  # Monitor the validation loss\n",
        "    min_delta=0.001,     # Minimum change to qualify as an improvement\n",
        "    patience=2,          # Stop after 5 epochs with no improvement\n",
        "    mode='min',          # Stop when the quantity monitored has stopped decreasing\n",
        "    verbose=1,\n",
        "    restore_best_weights=True  # Restore model weights from the epoch with the best value of the monitored quantity.\n",
        ")\n",
        "\n",
        "model.fit(\n",
        "    train_generator,\n",
        "    steps_per_epoch=train_generator.n // batch,\n",
        "    validation_data=validation_generator,\n",
        "    validation_steps=validation_generator.n // batch,\n",
        "    epochs=epochs,\n",
        "    callbacks=[early_stopping]\n",
        ")\n",
        "\n",
        "# Save the model\n",
        "model.save('/content/drive/MyDrive/DermatoAI/Models/binary_model_3.h5')\n"
      ],
      "metadata": {
        "id": "ezbjbUv_J3hI",
        "colab": {
          "base_uri": "https://localhost:8080/"
        },
        "outputId": "832fac12-34fa-42b3-8e19-ce75db2222ea"
      },
      "execution_count": 15,
      "outputs": [
        {
          "output_type": "stream",
          "name": "stdout",
          "text": [
            "Found 4143 images belonging to 2 classes.\n",
            "Found 1775 images belonging to 2 classes.\n",
            "{'healthy': 0, 'unhealthy': 1}\n",
            "Model: \"sequential_10\"\n",
            "_________________________________________________________________\n",
            " Layer (type)                Output Shape              Param #   \n",
            "=================================================================\n",
            " conv2d_38 (Conv2D)          (None, 450, 600, 16)      448       \n",
            "                                                                 \n",
            " batch_normalization_58 (Ba  (None, 450, 600, 16)      64        \n",
            " tchNormalization)                                               \n",
            "                                                                 \n",
            " max_pooling2d_38 (MaxPooli  (None, 225, 300, 16)      0         \n",
            " ng2D)                                                           \n",
            "                                                                 \n",
            " conv2d_39 (Conv2D)          (None, 225, 300, 32)      4640      \n",
            "                                                                 \n",
            " batch_normalization_59 (Ba  (None, 225, 300, 32)      128       \n",
            " tchNormalization)                                               \n",
            "                                                                 \n",
            " max_pooling2d_39 (MaxPooli  (None, 112, 150, 32)      0         \n",
            " ng2D)                                                           \n",
            "                                                                 \n",
            " flatten_10 (Flatten)        (None, 537600)            0         \n",
            "                                                                 \n",
            " dense_30 (Dense)            (None, 64)                34406464  \n",
            "                                                                 \n",
            " dropout_20 (Dropout)        (None, 64)                0         \n",
            "                                                                 \n",
            " batch_normalization_60 (Ba  (None, 64)                256       \n",
            " tchNormalization)                                               \n",
            "                                                                 \n",
            " dense_31 (Dense)            (None, 1)                 65        \n",
            "                                                                 \n",
            "=================================================================\n",
            "Total params: 34412065 (131.27 MB)\n",
            "Trainable params: 34411841 (131.27 MB)\n",
            "Non-trainable params: 224 (896.00 Byte)\n",
            "_________________________________________________________________\n",
            "Epoch 1/10\n",
            "258/258 [==============================] - 83s 312ms/step - loss: 0.1077 - accuracy: 0.9624 - precision_20: 0.9613 - recall_20: 0.9637 - f1_score: 0.9625 - val_loss: 0.7638 - val_accuracy: 0.4960 - val_precision_20: 0.4960 - val_recall_20: 1.0000 - val_f1_score: 0.6631\n",
            "Epoch 2/10\n",
            "258/258 [==============================] - 77s 298ms/step - loss: 0.0792 - accuracy: 0.9741 - precision_20: 0.9743 - recall_20: 0.9738 - f1_score: 0.9741 - val_loss: 0.1157 - val_accuracy: 0.9585 - val_precision_20: 1.0000 - val_recall_20: 0.9164 - val_f1_score: 0.9564\n",
            "Epoch 3/10\n",
            "258/258 [==============================] - 82s 318ms/step - loss: 0.0600 - accuracy: 0.9830 - precision_20: 0.9864 - recall_20: 0.9797 - f1_score: 0.9830 - val_loss: 0.0292 - val_accuracy: 0.9926 - val_precision_20: 1.0000 - val_recall_20: 0.9851 - val_f1_score: 0.9925\n",
            "Epoch 4/10\n",
            "258/258 [==============================] - 78s 303ms/step - loss: 0.0632 - accuracy: 0.9799 - precision_20: 0.9816 - recall_20: 0.9782 - f1_score: 0.9799 - val_loss: 0.3552 - val_accuracy: 0.8182 - val_precision_20: 0.7318 - val_recall_20: 1.0000 - val_f1_score: 0.8451\n",
            "Epoch 5/10\n",
            "258/258 [==============================] - 80s 311ms/step - loss: 0.0654 - accuracy: 0.9801 - precision_20: 0.9816 - recall_20: 0.9787 - f1_score: 0.9801 - val_loss: 0.0114 - val_accuracy: 0.9960 - val_precision_20: 1.0000 - val_recall_20: 0.9920 - val_f1_score: 0.9960\n",
            "Epoch 6/10\n",
            "258/258 [==============================] - 79s 306ms/step - loss: 0.0530 - accuracy: 0.9828 - precision_20: 0.9826 - recall_20: 0.9831 - f1_score: 0.9828 - val_loss: 0.0138 - val_accuracy: 0.9977 - val_precision_20: 1.0000 - val_recall_20: 0.9954 - val_f1_score: 0.9977\n",
            "Epoch 7/10\n",
            "258/258 [==============================] - ETA: 0s - loss: 0.0490 - accuracy: 0.9850 - precision_20: 0.9850 - recall_20: 0.9850 - f1_score: 0.9850Restoring model weights from the end of the best epoch: 5.\n",
            "258/258 [==============================] - 82s 319ms/step - loss: 0.0490 - accuracy: 0.9850 - precision_20: 0.9850 - recall_20: 0.9850 - f1_score: 0.9850 - val_loss: 0.8311 - val_accuracy: 0.6841 - val_precision_20: 1.0000 - val_recall_20: 0.3631 - val_f1_score: 0.5328\n",
            "Epoch 7: early stopping\n"
          ]
        }
      ]
    },
    {
      "cell_type": "code",
      "source": [
        "import os\n",
        "\n",
        "def count_files(directory):\n",
        "    total_files = 0\n",
        "    for root, dirs, files in os.walk(directory):\n",
        "        total_files += len(files)\n",
        "    return total_files\n",
        "print(count_files('/content/drive/MyDrive/DermatoAI/SetDateClasificareBinaraPiele'))"
      ],
      "metadata": {
        "colab": {
          "base_uri": "https://localhost:8080/"
        },
        "id": "pIA35uz6TxFs",
        "outputId": "177d6676-4301-4617-bd03-a63421860add"
      },
      "execution_count": 2,
      "outputs": [
        {
          "output_type": "stream",
          "name": "stdout",
          "text": [
            "5918\n"
          ]
        }
      ]
    },
    {
      "cell_type": "code",
      "source": [
        "from google.colab import drive\n",
        "drive.mount('/content/drive')"
      ],
      "metadata": {
        "id": "aBmi9iiDRSPZ"
      },
      "execution_count": null,
      "outputs": []
    }
  ]
}